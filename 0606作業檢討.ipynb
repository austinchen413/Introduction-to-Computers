{
  "nbformat": 4,
  "nbformat_minor": 0,
  "metadata": {
    "colab": {
      "name": "0606作業檢討.ipynb",
      "provenance": [],
      "authorship_tag": "ABX9TyNddbCORYc+XW4KY+kKW8cC",
      "include_colab_link": true
    },
    "kernelspec": {
      "name": "python3",
      "display_name": "Python 3"
    },
    "language_info": {
      "name": "python"
    }
  },
  "cells": [
    {
      "cell_type": "markdown",
      "metadata": {
        "id": "view-in-github",
        "colab_type": "text"
      },
      "source": [
        "<a href=\"https://colab.research.google.com/github/austinchen413/Introduction-to-Computers/blob/main/0606%E4%BD%9C%E6%A5%AD%E6%AA%A2%E8%A8%8E.ipynb\" target=\"_parent\"><img src=\"https://colab.research.google.com/assets/colab-badge.svg\" alt=\"Open In Colab\"/></a>"
      ]
    },
    {
      "cell_type": "code",
      "execution_count": 1,
      "metadata": {
        "colab": {
          "base_uri": "https://localhost:8080/"
        },
        "id": "VGSuxowtwVbA",
        "outputId": "a0726b75-d843-4850-b180-322089e8b753"
      },
      "outputs": [
        {
          "output_type": "stream",
          "name": "stdout",
          "text": [
            "0606test\n"
          ]
        }
      ],
      "source": [
        "print(\"0606test\")i = 0"
      ]
    },
    {
      "cell_type": "code",
      "source": [
        "i = 0\n",
        "result = 0\n",
        "while i <= 50:\n",
        "    if i % 2 != 0:\n",
        "        result += i\n",
        "    i+=1    \n",
        "print(\"0~50的奇數和結果是%d\" % result)"
      ],
      "metadata": {
        "colab": {
          "base_uri": "https://localhost:8080/"
        },
        "id": "U4qkm-q7x8Ix",
        "outputId": "05fc4782-d8ac-4d5b-b924-c05ebd353676"
      },
      "execution_count": 2,
      "outputs": [
        {
          "output_type": "stream",
          "name": "stdout",
          "text": [
            "0~50的奇數和結果是625\n"
          ]
        }
      ]
    },
    {
      "cell_type": "code",
      "source": [
        "i = 0\n",
        "result = 0\n",
        "while i <= 50:\n",
        "    if i % 2 == 0:\n",
        "        result += i\n",
        "    i+=1    \n",
        "print(\"0~50的偶數和結果是%d\" % result)"
      ],
      "metadata": {
        "colab": {
          "base_uri": "https://localhost:8080/"
        },
        "id": "FAgyWGBPx-U1",
        "outputId": "7aac422f-8368-4ef4-fc96-3e348ea78adb"
      },
      "execution_count": 3,
      "outputs": [
        {
          "output_type": "stream",
          "name": "stdout",
          "text": [
            "0~50的偶數和結果是650\n"
          ]
        }
      ]
    },
    {
      "cell_type": "code",
      "source": [
        "n = int(input(\"請輸入正整數：\"))\n",
        "for i in range(1,n+1):\n",
        "    for j in range(i,n+1):\n",
        "        print(\"*\", end=\"\")\n",
        "    print()"
      ],
      "metadata": {
        "colab": {
          "base_uri": "https://localhost:8080/"
        },
        "id": "QwTMIDghyBx3",
        "outputId": "edb3a801-71ed-419a-de5a-ab2252b380fe"
      },
      "execution_count": 4,
      "outputs": [
        {
          "output_type": "stream",
          "name": "stdout",
          "text": [
            "請輸入正整數：10\n",
            "**********\n",
            "*********\n",
            "********\n",
            "*******\n",
            "******\n",
            "*****\n",
            "****\n",
            "***\n",
            "**\n",
            "*\n"
          ]
        }
      ]
    },
    {
      "cell_type": "code",
      "source": [
        "sum = 0\n",
        "for i in range(0, 101):\n",
        "    if (i%3==0 or i%7==0):\n",
        "        sum += i\n",
        "print(\"數值 1~100 中，所有是 3 或 7 倍數的數之總和 =\",sum)"
      ],
      "metadata": {
        "colab": {
          "base_uri": "https://localhost:8080/"
        },
        "id": "yBJ238auyHwC",
        "outputId": "4e68faa8-13c2-42c7-9914-88858d84e16c"
      },
      "execution_count": 5,
      "outputs": [
        {
          "output_type": "stream",
          "name": "stdout",
          "text": [
            "數值 1~100 中，所有是 3 或 7 倍數的數之總和 = 2208\n"
          ]
        }
      ]
    },
    {
      "cell_type": "code",
      "source": [
        "p=1\n",
        "counter=0\n",
        "n = int(input(\"請輸入正整數：\"))\n",
        "print(n,\"的因數有\",end=\" \")\n",
        "while (p<=n):\n",
        "    if (n%p==0):\n",
        "        print(p,end=\" \")\n",
        "        counter+=1\n",
        "    p+=1\n",
        "\n",
        "print()    \n",
        "if (counter==2):    \n",
        "    print(n,\"是質數\")\n",
        "else:\n",
        "    print(n,\"不是質數\")"
      ],
      "metadata": {
        "colab": {
          "base_uri": "https://localhost:8080/"
        },
        "id": "ZqXIpcUIyPrW",
        "outputId": "996d9ab6-505d-40ac-9a8f-ea1c29b59120"
      },
      "execution_count": 6,
      "outputs": [
        {
          "output_type": "stream",
          "name": "stdout",
          "text": [
            "請輸入正整數：3\n",
            "3 的因數有 1 3 \n",
            "3 是質數\n"
          ]
        }
      ]
    }
  ]
}