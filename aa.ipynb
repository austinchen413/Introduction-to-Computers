{
  "nbformat": 4,
  "nbformat_minor": 0,
  "metadata": {
    "colab": {
      "name": "Untitled13.ipynb",
      "provenance": [],
      "authorship_tag": "ABX9TyOW8SP+VTL/hZ+72/DBiany",
      "include_colab_link": true
    },
    "kernelspec": {
      "name": "python3",
      "display_name": "Python 3"
    },
    "language_info": {
      "name": "python"
    }
  },
  "cells": [
    {
      "cell_type": "markdown",
      "metadata": {
        "id": "view-in-github",
        "colab_type": "text"
      },
      "source": [
        "<a href=\"https://colab.research.google.com/github/austinchen413/Introduction-to-Computers/blob/main/aa.ipynb\" target=\"_parent\"><img src=\"https://colab.research.google.com/assets/colab-badge.svg\" alt=\"Open In Colab\"/></a>"
      ]
    },
    {
      "cell_type": "code",
      "execution_count": 7,
      "metadata": {
        "colab": {
          "base_uri": "https://localhost:8080/"
        },
        "id": "m7g8zwU_tCMX",
        "outputId": "e673fdf8-52c8-4e6a-e3f3-27316c2db6c8"
      },
      "outputs": [
        {
          "output_type": "stream",
          "name": "stdout",
          "text": [
            "請輸入梯形上底長度:5\n",
            "請輸入梯形下底長度:4\n",
            "請輸入梯形的高度:6\n",
            "梯形上底長度為:  5 公分, 梯形下底長度為:  4 公分, 梯形高度為:  6 公分, 梯形面積為:  27.0 平方公分\n"
          ]
        }
      ],
      "source": [
        "上底 = int(input(\"請輸入梯形上底長度:\"))\n",
        "下底 = int(input(\"請輸入梯形下底長度:\"))\n",
        "高 = int(input(\"請輸入梯形的高度:\"))\n",
        "面積 = (上底 + 下底) * 高/2\n",
        "print(\"梯形上底長度為: \",上底,\"公分,\",\"梯形下底長度為: \",下底,\"公分,\",\"梯形高度為: \",高,\"公分,\",\"梯形面積為: \",面積,\"平方公分\")"
      ]
    },
    {
      "cell_type": "code",
      "source": [
        "身高 = float(input(\"請輸入您的身高(cm):\"))\n",
        "體重 = float(input(\"請輸入您的體重(kg):\"))\n",
        "bmi = (體重/((身高/100)**2))\n",
        "print(\"身高 %d 公分, 體重 %d 公斤, BMI值為 %0.3f\" %(身高,體重,bmi))"
      ],
      "metadata": {
        "colab": {
          "base_uri": "https://localhost:8080/"
        },
        "id": "rTwARBhctQRI",
        "outputId": "65003fb1-f08e-4ec1-b875-a3bce4a60f12"
      },
      "execution_count": 8,
      "outputs": [
        {
          "output_type": "stream",
          "name": "stdout",
          "text": [
            "請輸入您的身高(cm):186\n",
            "請輸入您的體重(kg):75\n",
            "身高 186 公分, 體重 75 公斤, BMI值為 21.679\n"
          ]
        }
      ]
    },
    {
      "cell_type": "code",
      "source": [
        "a = int(input(\"請輸入正整數: \"))\n",
        "if (a % 2) == 0:\n",
        "   print(a,\"為偶數!\")\n",
        "else:\n",
        "   print(a,\"為奇數!\")\n",
        "b = int(input(\"請輸入正整數: \"))\n",
        "if (b % 2) == 0:\n",
        "   print(b,\"為偶數!\")\n",
        "else:\n",
        "   print(b,\"為奇數!\")"
      ],
      "metadata": {
        "colab": {
          "base_uri": "https://localhost:8080/"
        },
        "id": "Kvh_7tWatXm3",
        "outputId": "efacddef-ba84-491b-dd27-08bc9610bb49"
      },
      "execution_count": 4,
      "outputs": [
        {
          "output_type": "stream",
          "name": "stdout",
          "text": [
            "請輸入正整數: 41\n",
            "41 為奇數!\n",
            "請輸入正整數: 23\n",
            "23 為奇數!\n"
          ]
        }
      ]
    },
    {
      "cell_type": "code",
      "source": [
        "list11 = [\"編號:1 姓名: Tom\",\"編號:2 姓名: Mary\",\"編號:3 姓名: Tony\"]\n",
        "for i in range(len(list11)):\n",
        "  print(list11[i])"
      ],
      "metadata": {
        "colab": {
          "base_uri": "https://localhost:8080/"
        },
        "id": "HhbylvIltpEh",
        "outputId": "4d268073-fa41-45aa-c94f-078554e76970"
      },
      "execution_count": 5,
      "outputs": [
        {
          "output_type": "stream",
          "name": "stdout",
          "text": [
            "編號:1 姓名: Tom\n",
            "編號:2 姓名: Mary\n",
            "編號:3 姓名: Tony\n"
          ]
        }
      ]
    },
    {
      "cell_type": "code",
      "source": [
        "for i in range(2,10):\n",
        "  for j in range(1,10):\n",
        "    product = i * j\n",
        "    print(\"%d * %d = %2d\" %(i,j,product),end = \" \")\n",
        "  print()"
      ],
      "metadata": {
        "colab": {
          "base_uri": "https://localhost:8080/"
        },
        "id": "A49lVnzNt187",
        "outputId": "40d82aea-f591-422b-f7c6-40413091432f"
      },
      "execution_count": 6,
      "outputs": [
        {
          "output_type": "stream",
          "name": "stdout",
          "text": [
            "2 * 1 =  2 2 * 2 =  4 2 * 3 =  6 2 * 4 =  8 2 * 5 = 10 2 * 6 = 12 2 * 7 = 14 2 * 8 = 16 2 * 9 = 18 \n",
            "3 * 1 =  3 3 * 2 =  6 3 * 3 =  9 3 * 4 = 12 3 * 5 = 15 3 * 6 = 18 3 * 7 = 21 3 * 8 = 24 3 * 9 = 27 \n",
            "4 * 1 =  4 4 * 2 =  8 4 * 3 = 12 4 * 4 = 16 4 * 5 = 20 4 * 6 = 24 4 * 7 = 28 4 * 8 = 32 4 * 9 = 36 \n",
            "5 * 1 =  5 5 * 2 = 10 5 * 3 = 15 5 * 4 = 20 5 * 5 = 25 5 * 6 = 30 5 * 7 = 35 5 * 8 = 40 5 * 9 = 45 \n",
            "6 * 1 =  6 6 * 2 = 12 6 * 3 = 18 6 * 4 = 24 6 * 5 = 30 6 * 6 = 36 6 * 7 = 42 6 * 8 = 48 6 * 9 = 54 \n",
            "7 * 1 =  7 7 * 2 = 14 7 * 3 = 21 7 * 4 = 28 7 * 5 = 35 7 * 6 = 42 7 * 7 = 49 7 * 8 = 56 7 * 9 = 63 \n",
            "8 * 1 =  8 8 * 2 = 16 8 * 3 = 24 8 * 4 = 32 8 * 5 = 40 8 * 6 = 48 8 * 7 = 56 8 * 8 = 64 8 * 9 = 72 \n",
            "9 * 1 =  9 9 * 2 = 18 9 * 3 = 27 9 * 4 = 36 9 * 5 = 45 9 * 6 = 54 9 * 7 = 63 9 * 8 = 72 9 * 9 = 81 \n"
          ]
        }
      ]
    },
    {
      "cell_type": "code",
      "source": [
        "total = 0\n",
        "n = int(input())\n",
        "for i in range(2,n + 1,2):\n",
        "  total += i\n",
        "print(\"0到%d的偶數和結果是%d\" %(n,total))"
      ],
      "metadata": {
        "id": "ghS1gRQZup3E"
      },
      "execution_count": null,
      "outputs": []
    }
  ]
}