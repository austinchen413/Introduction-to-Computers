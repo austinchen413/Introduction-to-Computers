{
  "nbformat": 4,
  "nbformat_minor": 0,
  "metadata": {
    "colab": {
      "name": "0511.ipynb",
      "provenance": [],
      "authorship_tag": "ABX9TyP2LWJdn9VDUr+5jc5l3iF9",
      "include_colab_link": true
    },
    "kernelspec": {
      "name": "python3",
      "display_name": "Python 3"
    },
    "language_info": {
      "name": "python"
    }
  },
  "cells": [
    {
      "cell_type": "markdown",
      "metadata": {
        "id": "view-in-github",
        "colab_type": "text"
      },
      "source": [
        "<a href=\"https://colab.research.google.com/github/austinchen413/Introduction-to-Computers/blob/main/0511.ipynb\" target=\"_parent\"><img src=\"https://colab.research.google.com/assets/colab-badge.svg\" alt=\"Open In Colab\"/></a>"
      ]
    },
    {
      "cell_type": "code",
      "execution_count": 1,
      "metadata": {
        "colab": {
          "base_uri": "https://localhost:8080/"
        },
        "id": "XczGk2flg8B2",
        "outputId": "ae20c8b5-e88f-4191-b2e4-3dc89a1eb572"
      },
      "outputs": [
        {
          "output_type": "stream",
          "name": "stdout",
          "text": [
            "test\n"
          ]
        }
      ],
      "source": [
        "print(\"test\")"
      ]
    },
    {
      "cell_type": "code",
      "source": [
        "temp = float(input(\"請輸入你的體溫\"))\n",
        "if temp >= 37.5:\n",
        "  print(\"體溫過高!\")\n",
        "elif temp >= 37 and temp < 37.4:\n",
        "  print(\"體溫略高!\")\n",
        "elif temp >= 34 and temp < 36.9:\n",
        "  print(\"體溫正常!\")\n",
        "else:\n",
        "  print(\"體溫異常,請重新量測!\")"
      ],
      "metadata": {
        "colab": {
          "base_uri": "https://localhost:8080/"
        },
        "id": "EgRHPZuNiLbK",
        "outputId": "9b608bc9-a41e-4b14-ac89-01e98fc7952e"
      },
      "execution_count": 5,
      "outputs": [
        {
          "output_type": "stream",
          "name": "stdout",
          "text": [
            "請輸入你的體溫37.5\n",
            "體溫過高!\n"
          ]
        }
      ]
    },
    {
      "cell_type": "code",
      "source": [
        "money = int(input(\"請輸入購物金額:\"))\n",
        "if (money >= 10000):\n",
        "  if(money >= 100000):\n",
        "    print(\"八折\",money * 0.8,end = \"元\\n\")\n",
        "else:\n",
        "  print(\"沒打折\",money, end = \"元\\n\")"
      ],
      "metadata": {
        "colab": {
          "base_uri": "https://localhost:8080/"
        },
        "id": "wHlLqvZIl2Gu",
        "outputId": "8c9c55ac-f7ef-43f7-f46e-457291501202"
      },
      "execution_count": 7,
      "outputs": [
        {
          "output_type": "stream",
          "name": "stdout",
          "text": [
            "請輸入購物金額:100000\n",
            "八折 80000.0元\n"
          ]
        }
      ]
    },
    {
      "cell_type": "code",
      "source": [
        "money = int(input(\"請輸入購物金額:\"))\n",
        "if (money >= 10000):\n",
        "  if(money >= 100000):\n",
        "    print(\"八折\",money * 0.8,end = \"元\\n\")\n",
        "  elif (money >= 50000):\n",
        "    print(\"八五折\",money * 0.85,end = \"元\\n\")\n",
        "  elif (money >= 30000):\n",
        "    print(\"九折\", money * 0.9,end = \"元\\n\")\n",
        "  else:\n",
        "    print(\"九五折\",money * 0.95,end = \"元\\n\")\n",
        "else:\n",
        "  print(\"沒打折\",money, end = \"元\\n\")"
      ],
      "metadata": {
        "colab": {
          "base_uri": "https://localhost:8080/"
        },
        "outputId": "753eee97-c932-4782-e4b7-6243dc1daed6",
        "id": "TechXlw4nw6J"
      },
      "execution_count": 9,
      "outputs": [
        {
          "output_type": "stream",
          "name": "stdout",
          "text": [
            "請輸入購物金額:50000\n",
            "八五折 42500.0元\n"
          ]
        }
      ]
    },
    {
      "cell_type": "code",
      "source": [
        "season = int(input(\"請輸入月份:\"))\n",
        "if (season >= 1):\n",
        "  if(season >= 3 and season <= 5):\n",
        "    print(season,\"月是春天\")\n",
        "  elif (season >= 6 and season <= 8):\n",
        "    print(season,\"月是夏天!\")\n",
        "  elif (season >= 9 and season <= 11):\n",
        "    print(season,\"月是秋天!\")\n",
        "  else:\n",
        "    print(season,\"月是冬天!\")\n",
        "else:\n",
        "  print(\"月份不在範圍內!\")"
      ],
      "metadata": {
        "colab": {
          "base_uri": "https://localhost:8080/"
        },
        "outputId": "3c2cf204-faf6-4a7e-9c66-5975de7c1416",
        "id": "qw2XgO3aqL2F"
      },
      "execution_count": 13,
      "outputs": [
        {
          "output_type": "stream",
          "name": "stdout",
          "text": [
            "請輸入月份:5\n",
            "5 月是春天\n"
          ]
        }
      ]
    },
    {
      "cell_type": "code",
      "source": [
        "income = int(input(\"請輸入今年收入淨額:\"))\n",
        "if (income >= 300000):\n",
        "  if(income >= 2000000):\n",
        "    print(\"付稅金額:\",income * 0.3,end = \"元\\n\")\n",
        "  elif (income >= 1000000):\n",
        "    print(\"付稅金額\",income * 0.21,end = \"元\\n\")\n",
        "  elif (income >= 600000):\n",
        "    print(\"付稅金額\", income * 0.13,end = \"元\\n\")\n",
        "  elif (income >= 300000):\n",
        "    print(\"付稅金額\",income * 0.06,end = \"元\\n\")\n",
        "else:\n",
        "  print(\"付稅金額\",income * 0, end = \"元\\n\")"
      ],
      "metadata": {
        "colab": {
          "base_uri": "https://localhost:8080/"
        },
        "outputId": "70825b65-deef-4ab3-d57b-d61e65008f4b",
        "id": "iC03oNdosidp"
      },
      "execution_count": 25,
      "outputs": [
        {
          "output_type": "stream",
          "name": "stdout",
          "text": [
            "請輸入今年收入淨額:100000\n",
            "付稅金額 0元\n"
          ]
        }
      ]
    },
    {
      "cell_type": "code",
      "source": [
        "income = int(input(\"請輸入今年收入淨額:\"))\n",
        "if (income >= 300000):\n",
        "  if(income >= 2000000):\n",
        "    print(\"付稅金額:\",income * 0.3,end = \"元\\n\")\n",
        "  elif (income >= 1000000):\n",
        "    print(\"付稅金額\",income * 0.21,end = \"元\\n\")\n",
        "  elif (income >= 600000):\n",
        "    print(\"付稅金額\", income * 0.13,end = \"元\\n\")\n",
        "  elif (income >= 300000):\n",
        "    print(\"付稅金額\",income * 0.06,end = \"元\\n\")\n",
        "else:\n",
        "  print(\"付稅金額\",income * 0, end = \"元\\n\")"
      ],
      "metadata": {
        "colab": {
          "base_uri": "https://localhost:8080/"
        },
        "outputId": "416b5c02-571a-4eec-a1fb-41ef3b707b2a",
        "id": "VqCTcwNoxthR"
      },
      "execution_count": 26,
      "outputs": [
        {
          "output_type": "stream",
          "name": "stdout",
          "text": [
            "請輸入今年收入淨額:2000000\n",
            "付稅金額: 600000.0元\n"
          ]
        }
      ]
    },
    {
      "cell_type": "code",
      "source": [
        "grade = int(input(\"請輸入成績\"))\n",
        "if(grade >= 60):  \n",
        "  if(grade >= 90):\n",
        "    print(\"A\")\n",
        "  elif (grade >= 80 and grade <= 89):\n",
        "    print(\"B\")\n",
        "  elif (grade >= 70 and grade <= 79):\n",
        "    print(\"C\")\n",
        "  elif (grade >= 60 and grade <= 69):\n",
        "    print(\"D\")\n",
        "else:\n",
        "  print(\"E\")"
      ],
      "metadata": {
        "colab": {
          "base_uri": "https://localhost:8080/"
        },
        "outputId": "312297ee-71ca-43d4-b36e-eb62856dee46",
        "id": "H5y-KcgEvYVM"
      },
      "execution_count": 27,
      "outputs": [
        {
          "output_type": "stream",
          "name": "stdout",
          "text": [
            "請輸入成績90\n",
            "A\n"
          ]
        }
      ]
    },
    {
      "cell_type": "code",
      "source": [
        "grade = int(input(\"請輸入成績\"))\n",
        "if(grade >= 60):  \n",
        "  if(grade >= 90):\n",
        "    print(\"A\")\n",
        "  elif (grade >= 80 and grade <= 89):\n",
        "    print(\"B\")\n",
        "  elif (grade >= 70 and grade <= 79):\n",
        "    print(\"C\")\n",
        "  elif (grade >= 60 and grade <= 69):\n",
        "    print(\"D\")\n",
        "else:\n",
        "  print(\"E\")"
      ],
      "metadata": {
        "colab": {
          "base_uri": "https://localhost:8080/"
        },
        "outputId": "2a61cab5-e2c2-4526-cd20-7bb406702c60",
        "id": "SzNXFgujyB6H"
      },
      "execution_count": 28,
      "outputs": [
        {
          "output_type": "stream",
          "name": "stdout",
          "text": [
            "請輸入成績80\n",
            "B\n"
          ]
        }
      ]
    },
    {
      "cell_type": "code",
      "source": [
        "grade = int(input(\"請輸入成績\"))\n",
        "if(grade >= 60):  \n",
        "  if(grade >= 90):\n",
        "    print(\"A\")\n",
        "  elif (grade >= 80 and grade <= 89):\n",
        "    print(\"B\")\n",
        "  elif (grade >= 70 and grade <= 79):\n",
        "    print(\"C\")\n",
        "  elif (grade >= 60 and grade <= 69):\n",
        "    print(\"D\")\n",
        "else:\n",
        "  print(\"E\")"
      ],
      "metadata": {
        "colab": {
          "base_uri": "https://localhost:8080/"
        },
        "outputId": "a5b864d9-aceb-402b-ba22-802fbe320fd9",
        "id": "c1MZxOCGyEj0"
      },
      "execution_count": 29,
      "outputs": [
        {
          "output_type": "stream",
          "name": "stdout",
          "text": [
            "請輸入成績50\n",
            "E\n"
          ]
        }
      ]
    }
  ]
}